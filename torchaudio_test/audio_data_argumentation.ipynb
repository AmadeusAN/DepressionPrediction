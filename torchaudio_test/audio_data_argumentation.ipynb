{
 "cells": [
  {
   "cell_type": "code",
   "execution_count": 1,
   "metadata": {
    "collapsed": true,
    "ExecuteTime": {
     "end_time": "2024-07-25T06:24:26.656218600Z",
     "start_time": "2024-07-25T06:24:23.351317400Z"
    }
   },
   "outputs": [
    {
     "name": "stdout",
     "output_type": "stream",
     "text": [
      "2.4.0\n",
      "2.4.0\n"
     ]
    }
   ],
   "source": [
    "import torch\n",
    "import torchaudio\n",
    "import torchaudio.functional as F\n",
    "\n",
    "print(torch.__version__)\n",
    "print(torchaudio.__version__)\n",
    "\n",
    "import matplotlib.pyplot as plt"
   ]
  },
  {
   "cell_type": "code",
   "execution_count": 2,
   "outputs": [
    {
     "name": "stderr",
     "output_type": "stream",
     "text": [
      "100%|██████████| 427k/427k [00:00<00:00, 921kB/s]\n",
      "100%|██████████| 31.3k/31.3k [00:00<00:00, 310kB/s]\n",
      "100%|██████████| 78.2k/78.2k [00:00<00:00, 718kB/s]\n"
     ]
    }
   ],
   "source": [
    "from IPython.display import Audio\n",
    "\n",
    "from torchaudio.utils import download_asset\n",
    "\n",
    "SAMPLE_WAV = download_asset(\"tutorial-assets/steam-train-whistle-daniel_simon.wav\")\n",
    "SAMPLE_RIR = download_asset(\"tutorial-assets/Lab41-SRI-VOiCES-rm1-impulse-mc01-stu-clo-8000hz.wav\")\n",
    "SAMPLE_SPEECH = download_asset(\"tutorial-assets/Lab41-SRI-VOiCES-src-sp0307-ch127535-sg0042-8000hz.wav\")\n",
    "SAMPLE_NOISE = download_asset(\"tutorial-assets/Lab41-SRI-VOiCES-rm1-babb-mc01-stu-clo-8000hz.wav\")"
   ],
   "metadata": {
    "collapsed": false,
    "ExecuteTime": {
     "end_time": "2024-07-25T06:24:29.151315400Z",
     "start_time": "2024-07-25T06:24:27.373935Z"
    }
   }
  },
  {
   "cell_type": "code",
   "execution_count": 8,
   "outputs": [
    {
     "name": "stdout",
     "output_type": "stream",
     "text": [
      "AudioMetaData(sample_rate=44100, num_frames=109368, num_channels=2, bits_per_sample=16, encoding=PCM_S)\n"
     ]
    }
   ],
   "source": [
    "print(str(torchaudio.info(SAMPLE_WAV)))"
   ],
   "metadata": {
    "collapsed": false,
    "ExecuteTime": {
     "end_time": "2024-07-25T06:27:04.764384300Z",
     "start_time": "2024-07-25T06:27:04.749314Z"
    }
   }
  },
  {
   "cell_type": "code",
   "execution_count": 5,
   "outputs": [
    {
     "data": {
      "text/plain": "torch.Size([109368, 2])"
     },
     "execution_count": 5,
     "metadata": {},
     "output_type": "execute_result"
    }
   ],
   "source": [
    "waveform1, sample_rate = torchaudio.load(SAMPLE_WAV, channels_first=False)\n",
    "waveform1.shape"
   ],
   "metadata": {
    "collapsed": false,
    "ExecuteTime": {
     "end_time": "2024-07-25T06:26:25.515207100Z",
     "start_time": "2024-07-25T06:26:25.501169400Z"
    }
   }
  },
  {
   "cell_type": "code",
   "execution_count": 9,
   "outputs": [],
   "source": [
    "# Define effects\n",
    "effect = \",\".join(\n",
    "    [\n",
    "        \"lowpass=frequency=300:poles=1\",  # apply single-pole lowpass filter\n",
    "        \"atempo=0.8\",  # reduce the speed\n",
    "        \"aecho=in_gain=0.8:out_gain=0.9:delays=200:decays=0.3|delays=400:decays=0.3\"\n",
    "        # Applying echo gives some dramatic feeling\n",
    "    ],\n",
    ")\n",
    "\n",
    "\n",
    "# Apply effects\n",
    "def apply_effect(waveform, sample_rate, effect):\n",
    "    effector = torchaudio.io.AudioEffector(effect=effect)\n",
    "    return effector.apply(waveform, sample_rate)"
   ],
   "metadata": {
    "collapsed": false,
    "ExecuteTime": {
     "end_time": "2024-07-25T06:28:12.068580800Z",
     "start_time": "2024-07-25T06:28:12.053627800Z"
    }
   }
  },
  {
   "cell_type": "code",
   "execution_count": 16,
   "outputs": [
    {
     "name": "stdout",
     "output_type": "stream",
     "text": [
      "torch.Size([109368, 2]) 44100\n",
      "torch.Size([144642, 2]) 44100\n"
     ]
    }
   ],
   "source": [
    "waveform2 = apply_effect(waveform1, sample_rate, effect)\n",
    "\n",
    "print(waveform1.shape, sample_rate)\n",
    "print(waveform2.shape, sample_rate)"
   ],
   "metadata": {
    "collapsed": false,
    "ExecuteTime": {
     "end_time": "2024-07-25T06:45:26.017605500Z",
     "start_time": "2024-07-25T06:45:25.957397200Z"
    }
   }
  },
  {
   "cell_type": "code",
   "execution_count": 17,
   "outputs": [
    {
     "name": "stdout",
     "output_type": "stream",
     "text": [
      "['soundfile']\n"
     ]
    }
   ],
   "source": [
    "print(torchaudio.list_audio_backends())"
   ],
   "metadata": {
    "collapsed": false,
    "ExecuteTime": {
     "end_time": "2024-07-25T06:47:01.782809400Z",
     "start_time": "2024-07-25T06:47:01.779802100Z"
    }
   }
  }
 ],
 "metadata": {
  "kernelspec": {
   "display_name": "Python 3",
   "language": "python",
   "name": "python3"
  },
  "language_info": {
   "codemirror_mode": {
    "name": "ipython",
    "version": 2
   },
   "file_extension": ".py",
   "mimetype": "text/x-python",
   "name": "python",
   "nbconvert_exporter": "python",
   "pygments_lexer": "ipython2",
   "version": "2.7.6"
  }
 },
 "nbformat": 4,
 "nbformat_minor": 0
}
