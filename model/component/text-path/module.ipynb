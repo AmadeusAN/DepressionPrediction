{
 "cells": [
  {
   "cell_type": "code",
   "execution_count": 1,
   "metadata": {
    "ExecuteTime": {
     "end_time": "2024-07-27T05:15:14.263373400Z",
     "start_time": "2024-07-27T05:15:14.240587400Z"
    },
    "collapsed": true
   },
   "outputs": [
    {
     "name": "stderr",
     "output_type": "stream",
     "text": [
      "d:\\Anaconda\\envs\\depression\\lib\\site-packages\\sentence_transformers\\cross_encoder\\CrossEncoder.py:11: TqdmExperimentalWarning: Using `tqdm.autonotebook.tqdm` in notebook mode. Use `tqdm.tqdm` instead to force console mode (e.g. in jupyter console)\n",
      "  from tqdm.autonotebook import tqdm, trange\n"
     ]
    },
    {
     "data": {
      "application/vnd.jupyter.widget-view+json": {
       "model_id": "23dcb2ccedd74c5ab46976bd043dc5e3",
       "version_major": 2,
       "version_minor": 0
      },
      "text/plain": [
       "model.safetensors:  23%|##3       | 21.0M/90.9M [00:00<?, ?B/s]"
      ]
     },
     "metadata": {},
     "output_type": "display_data"
    },
    {
     "name": "stderr",
     "output_type": "stream",
     "text": [
      "Error while downloading from https://cdn-lfs.huggingface.co/sentence-transformers/all-MiniLM-L6-v2/53aa51172d142c89d9012cce15ae4d6cc0ca6895895114379cacb4fab128d9db?response-content-disposition=inline%3B+filename*%3DUTF-8%27%27model.safetensors%3B+filename%3D%22model.safetensors%22%3B&Expires=1723207246&Policy=eyJTdGF0ZW1lbnQiOlt7IkNvbmRpdGlvbiI6eyJEYXRlTGVzc1RoYW4iOnsiQVdTOkVwb2NoVGltZSI6MTcyMzIwNzI0Nn19LCJSZXNvdXJjZSI6Imh0dHBzOi8vY2RuLWxmcy5odWdnaW5nZmFjZS5jby9zZW50ZW5jZS10cmFuc2Zvcm1lcnMvYWxsLU1pbmlMTS1MNi12Mi81M2FhNTExNzJkMTQyYzg5ZDkwMTJjY2UxNWFlNGQ2Y2MwY2E2ODk1ODk1MTE0Mzc5Y2FjYjRmYWIxMjhkOWRiP3Jlc3BvbnNlLWNvbnRlbnQtZGlzcG9zaXRpb249KiJ9XX0_&Signature=jXceLdCLFbLKKCXYAf9kc5%7EyEcTzKEVffaRjX7tIsEuhfkRi1seP7QEfNOxMHbWInOICBLzNP460Oc2a8ygjfKTFnM6Qq13bdca-O6dKZPJkB0ncjVaXU3Z3kVzMD6FZK4iod%7EhQOFAGfJtvi%7EIxSs%7EMI1NR4lOK1v99KKxXDHojVD6TpVkZ3TZYd6eCcgoXnNdZUOSkC1mgQ4TgbyWQlHx-SvWfmcMH9trFDutlFagPW12-Oqeosj3-9Y23BOw5FGCN%7EYaBR0snKXWlgpi3VASDbpIU4-zv7ZPdB0doTynPEpbPOVUTB4Po2d-D%7Ei2HWhLxe%7E0QhgMYn8IKrW7DHg__&Key-Pair-Id=K3ESJI6DHPFC7: HTTPSConnectionPool(host='cdn-lfs.huggingface.co', port=443): Read timed out.\n",
      "Trying to resume download...\n"
     ]
    },
    {
     "data": {
      "application/vnd.jupyter.widget-view+json": {
       "model_id": "cc0af3508e0a4f7e93696d2158508ef3",
       "version_major": 2,
       "version_minor": 0
      },
      "text/plain": [
       "model.safetensors:  92%|#########2| 83.9M/90.9M [00:00<?, ?B/s]"
      ]
     },
     "metadata": {},
     "output_type": "display_data"
    },
    {
     "data": {
      "application/vnd.jupyter.widget-view+json": {
       "model_id": "dd35f11084bd407b8b313e5e22b3d0eb",
       "version_major": 2,
       "version_minor": 0
      },
      "text/plain": [
       "tokenizer_config.json:   0%|          | 0.00/350 [00:00<?, ?B/s]"
      ]
     },
     "metadata": {},
     "output_type": "display_data"
    },
    {
     "data": {
      "application/vnd.jupyter.widget-view+json": {
       "model_id": "66407dd440904dc3ac5c0caca6f57154",
       "version_major": 2,
       "version_minor": 0
      },
      "text/plain": [
       "vocab.txt:   0%|          | 0.00/232k [00:00<?, ?B/s]"
      ]
     },
     "metadata": {},
     "output_type": "display_data"
    },
    {
     "data": {
      "application/vnd.jupyter.widget-view+json": {
       "model_id": "45328cef01324ee7b1d44b4e6ccf9734",
       "version_major": 2,
       "version_minor": 0
      },
      "text/plain": [
       "tokenizer.json:   0%|          | 0.00/466k [00:00<?, ?B/s]"
      ]
     },
     "metadata": {},
     "output_type": "display_data"
    },
    {
     "data": {
      "application/vnd.jupyter.widget-view+json": {
       "model_id": "858342d97a454b17a8ac64a7d771fc33",
       "version_major": 2,
       "version_minor": 0
      },
      "text/plain": [
       "special_tokens_map.json:   0%|          | 0.00/112 [00:00<?, ?B/s]"
      ]
     },
     "metadata": {},
     "output_type": "display_data"
    },
    {
     "data": {
      "application/vnd.jupyter.widget-view+json": {
       "model_id": "1471157c3b824399ab77423a13a120e9",
       "version_major": 2,
       "version_minor": 0
      },
      "text/plain": [
       "1_Pooling/config.json:   0%|          | 0.00/190 [00:00<?, ?B/s]"
      ]
     },
     "metadata": {},
     "output_type": "display_data"
    }
   ],
   "source": [
    "from sentence_transformers import SentenceTransformer\n",
    "\n",
    "model = SentenceTransformer(\"all-MiniLM-L6-v2\")"
   ]
  },
  {
   "cell_type": "code",
   "execution_count": 2,
   "metadata": {
    "collapsed": false
   },
   "outputs": [
    {
     "name": "stdout",
     "output_type": "stream",
     "text": [
      "(3, 384)\n"
     ]
    }
   ],
   "source": [
    "sentences = [\n",
    "    \"The weather is lovely today.\",\n",
    "    \"It's so sunny outside!\",\n",
    "    \"He drove to the stadium.\",\n",
    "]\n",
    "embeddings = model.encode(sentences)\n",
    "print(embeddings.shape)\n",
    "# => (3, 384)"
   ]
  },
  {
   "cell_type": "code",
   "execution_count": 3,
   "metadata": {},
   "outputs": [
    {
     "data": {
      "text/plain": [
       "array([ 1.91957429e-02,  1.20085366e-01,  1.59598291e-01,  6.70658946e-02,\n",
       "        5.00747859e-02, -2.59187371e-02,  5.64681925e-02, -9.28578228e-02,\n",
       "       -3.76114510e-02,  6.32383907e-03, -4.28877734e-02,  4.02829144e-03,\n",
       "        4.72777430e-03,  3.24676372e-02,  4.95197773e-02,  5.29818498e-02,\n",
       "       -4.04454879e-02, -2.14837808e-02, -3.02760154e-02,  2.20858492e-02,\n",
       "       -1.60775825e-01,  8.08078051e-02, -2.80131120e-02,  8.06255713e-02,\n",
       "       -2.85814423e-02,  5.35818413e-02,  1.26382541e-02,  4.79190834e-02,\n",
       "        5.71114477e-03, -3.25830765e-02, -2.61571072e-02,  8.00957307e-02,\n",
       "        1.47315832e-02, -3.24082300e-02, -4.12551910e-02, -9.68344975e-03,\n",
       "        5.00802242e-04, -1.56286821e-01, -6.77877590e-02,  4.88779172e-02,\n",
       "        1.88975856e-02, -7.97722414e-02,  2.43868399e-02,  5.46694640e-03,\n",
       "        1.10656833e-02, -7.77948508e-03, -2.20388323e-02,  3.50320227e-02,\n",
       "        1.06080204e-01, -4.72451234e-03, -5.78185618e-02,  2.34565753e-02,\n",
       "       -5.92035614e-02, -6.09013252e-02, -7.78568611e-02,  6.60292730e-02,\n",
       "        1.78600475e-02, -8.11271071e-02,  7.57634118e-02, -2.43455004e-02,\n",
       "        9.09024850e-03,  6.87524974e-02, -3.97270918e-02,  3.60238366e-02,\n",
       "        5.77254184e-02, -6.30517006e-02, -8.77819583e-02,  2.84299422e-02,\n",
       "        1.45351915e-02, -4.18620668e-02, -6.09528534e-02,  1.83539111e-02,\n",
       "        7.72606954e-02, -1.88080445e-02,  9.43157449e-03, -5.06037697e-02,\n",
       "       -2.17474122e-02, -3.18190791e-02,  2.43602674e-02, -3.49250995e-02,\n",
       "        4.67639305e-02, -4.70386669e-02,  3.92342433e-02,  1.94040071e-02,\n",
       "       -3.30973379e-02,  2.53315512e-02, -2.63812905e-03,  7.00824931e-02,\n",
       "        6.98783174e-02, -3.73870730e-02, -8.25272873e-02, -4.34261858e-02,\n",
       "       -9.70547646e-02,  1.45785194e-02, -2.78158262e-02,  3.92692573e-02,\n",
       "        1.16925058e-03,  1.92407271e-04, -7.57028610e-02,  8.60969275e-02,\n",
       "        2.88488325e-02,  2.29220986e-02, -3.57373953e-02,  3.54775488e-02,\n",
       "        2.45242659e-02,  2.40352117e-02, -8.79047588e-02,  1.44878365e-02,\n",
       "       -2.73459218e-02, -8.52087289e-02, -1.44946119e-02,  4.79919687e-02,\n",
       "       -4.62026037e-02, -5.00963861e-03,  5.72110079e-02, -5.80549352e-02,\n",
       "       -3.13617811e-02,  2.64306441e-02, -2.34356653e-02,  1.55485803e-02,\n",
       "       -1.91462021e-02, -3.77385989e-02, -4.94923070e-03,  9.59073976e-02,\n",
       "        5.87535426e-02,  4.47579660e-02,  6.50169179e-02, -8.88410712e-33,\n",
       "        8.52445066e-02,  1.26364809e-02,  5.76432012e-02,  9.03413743e-02,\n",
       "        2.25082673e-02, -2.90105697e-02, -2.35911198e-02, -6.75426796e-02,\n",
       "       -6.44759312e-02, -8.70767236e-02, -1.64987165e-02, -2.39179637e-02,\n",
       "       -4.09978814e-02, -3.09387525e-03,  2.49697920e-02, -1.18342146e-01,\n",
       "       -2.00170185e-02,  3.90376635e-02, -7.62237562e-03,  1.26223624e-01,\n",
       "       -1.07739046e-01,  2.30697077e-03,  3.93508002e-03, -1.73428990e-02,\n",
       "       -4.45554256e-02, -3.18518132e-02,  8.25000554e-02,  3.15845851e-03,\n",
       "        5.12052095e-03,  3.60782654e-03,  1.00530922e-01, -3.14028487e-02,\n",
       "        8.14436749e-02,  2.90747937e-02,  3.88876572e-02, -5.74764237e-02,\n",
       "       -4.57872935e-02, -1.83596350e-02,  5.51990122e-02,  1.61928404e-02,\n",
       "       -1.55425342e-02, -1.93223767e-02,  5.90651250e-03, -4.04032432e-02,\n",
       "       -1.15880314e-02,  6.17917329e-02,  5.18475175e-02,  5.11258207e-02,\n",
       "       -2.27067862e-02,  1.71410982e-02, -8.40456486e-02,  1.96278393e-02,\n",
       "       -1.22258263e-02,  4.10587639e-02, -5.46055026e-02, -5.03100082e-02,\n",
       "        1.41693657e-04,  2.67022345e-02,  3.48007493e-02,  2.81967353e-02,\n",
       "       -4.85028066e-02,  2.65087765e-02, -4.79759136e-03, -1.38822138e-01,\n",
       "        9.22235176e-02, -2.41662338e-02,  1.12707140e-02,  7.29610547e-02,\n",
       "       -9.47542936e-02,  3.91784832e-02,  5.63311726e-02,  3.21453027e-02,\n",
       "        6.91322237e-02,  2.38994900e-02,  6.48373924e-03,  1.73735879e-02,\n",
       "        1.23578802e-01, -2.84599774e-02,  8.67334753e-02,  6.10371791e-02,\n",
       "       -2.50963140e-02,  1.06898583e-01,  2.98544094e-02, -7.70195425e-02,\n",
       "       -1.01652322e-02, -6.43564854e-03, -3.24916020e-02, -3.37632820e-02,\n",
       "       -4.32395302e-02,  6.21578731e-02, -4.06050943e-02,  3.89888361e-02,\n",
       "        5.85224852e-02, -3.41907442e-02, -5.12121990e-02,  4.50507953e-33,\n",
       "        1.13116719e-01, -8.51074792e-03, -9.25030932e-02,  2.20424198e-02,\n",
       "       -5.66864833e-02, -1.57673322e-02, -4.67311777e-02,  6.14580102e-02,\n",
       "       -5.16407155e-02,  8.90316218e-02,  9.35165212e-03,  6.35815561e-02,\n",
       "        7.01287389e-02, -6.47543967e-02,  5.41848503e-03,  1.33845967e-03,\n",
       "        3.79684828e-02,  6.89032227e-02, -7.42481798e-02,  6.36941344e-02,\n",
       "       -4.75647599e-02, -7.84209743e-03, -8.18964746e-03,  1.84129085e-02,\n",
       "       -7.60232843e-03,  4.76388521e-02, -1.72516257e-02,  4.40721512e-02,\n",
       "       -8.77779499e-02, -1.07916184e-02, -5.54142669e-02,  4.88614328e-02,\n",
       "       -7.83364773e-02,  1.67492200e-02, -1.64383892e-02,  6.06767945e-02,\n",
       "        2.85735987e-02, -9.52064916e-02,  2.51444895e-03,  1.08555052e-02,\n",
       "       -5.09450324e-02, -2.14771219e-02,  1.52796790e-01, -4.27820198e-02,\n",
       "        2.89093349e-02, -4.96570282e-02, -5.79502285e-02,  2.82133836e-02,\n",
       "       -3.25842388e-02, -1.75043251e-02,  4.48866636e-02,  3.40810381e-02,\n",
       "        1.45210433e-04,  4.81841788e-02,  4.18299250e-02, -4.69190031e-02,\n",
       "       -7.91866556e-02, -3.42712328e-02, -6.66710734e-02, -1.03458827e-02,\n",
       "       -9.11988467e-02,  6.67366572e-03, -1.45808812e-02,  2.39228830e-03,\n",
       "        4.44562966e-03, -1.05879474e-02, -2.78449096e-02, -3.49643901e-02,\n",
       "       -2.46670973e-02,  4.78203632e-02, -2.08226312e-02, -5.95815592e-02,\n",
       "       -1.04035705e-01, -5.59097901e-02,  3.86543684e-02,  1.05138011e-02,\n",
       "        3.55818048e-02,  1.76445134e-02, -2.49957666e-02,  6.66439533e-02,\n",
       "       -5.30123599e-02,  2.30047088e-02,  1.73489060e-02, -2.07350571e-02,\n",
       "       -1.95314400e-02, -9.51545835e-02, -5.02572302e-03, -6.35184273e-02,\n",
       "        4.35592979e-02,  7.26910383e-02, -2.75358744e-02,  4.34854701e-02,\n",
       "       -4.55433242e-02,  3.32280658e-02, -2.56187599e-02, -1.89569516e-08,\n",
       "       -3.73010002e-02, -8.29237700e-02, -6.99395463e-02,  1.35675352e-02,\n",
       "       -3.54312384e-03, -5.79407625e-02,  7.41110295e-02, -4.22320589e-02,\n",
       "       -1.28664235e-02,  3.67892608e-02,  4.58847582e-02,  6.05496429e-02,\n",
       "       -1.43572446e-02,  4.88549136e-02,  4.71242145e-02, -6.85540810e-02,\n",
       "       -1.87134128e-02,  2.15035342e-02, -1.62538327e-02,  2.12599803e-03,\n",
       "        6.09612316e-02, -2.16078642e-03, -1.72992777e-02,  7.26746321e-02,\n",
       "        5.70596009e-02, -7.01321755e-03, -5.68799395e-03, -4.84191813e-02,\n",
       "        1.87250972e-02,  6.47058412e-02, -2.53904723e-02,  1.77654102e-02,\n",
       "       -2.42896541e-03, -1.67993065e-02, -1.95212127e-03, -3.73651683e-02,\n",
       "        2.69613247e-02,  4.33779359e-02, -5.75020798e-02, -3.06685437e-02,\n",
       "       -3.13655697e-02,  1.78942122e-02, -5.40487021e-02, -1.98004637e-02,\n",
       "        4.04947251e-02, -7.47318640e-02,  4.45540175e-02,  3.63072790e-02,\n",
       "       -7.20079765e-02,  1.16352057e-02, -1.22403903e-02,  4.13236767e-03,\n",
       "        7.82235935e-02,  5.37100844e-02, -2.57693958e-02, -1.13108326e-02,\n",
       "       -4.83092479e-02, -1.84191894e-02,  2.60648187e-02, -1.37101847e-03,\n",
       "       -5.31681478e-02, -5.36285806e-03, -8.10949951e-02,  5.02133928e-02],\n",
       "      dtype=float32)"
      ]
     },
     "execution_count": 3,
     "metadata": {},
     "output_type": "execute_result"
    }
   ],
   "source": [
    "embeddings[0]"
   ]
  }
 ],
 "metadata": {
  "kernelspec": {
   "display_name": "Python 3",
   "language": "python",
   "name": "python3"
  },
  "language_info": {
   "codemirror_mode": {
    "name": "ipython",
    "version": 3
   },
   "file_extension": ".py",
   "mimetype": "text/x-python",
   "name": "python",
   "nbconvert_exporter": "python",
   "pygments_lexer": "ipython3",
   "version": "3.10.14"
  }
 },
 "nbformat": 4,
 "nbformat_minor": 0
}
