{
 "cells": [
  {
   "cell_type": "code",
   "execution_count": 1,
   "metadata": {
    "ExecuteTime": {
     "end_time": "2024-07-25T09:10:44.098369Z",
     "start_time": "2024-07-25T09:10:41.008352100Z"
    },
    "collapsed": true
   },
   "outputs": [
    {
     "name": "stdout",
     "output_type": "stream",
     "text": [
      "2.4.0\n",
      "0.1.0.dev20240723\n",
      "1.18.1\n"
     ]
    }
   ],
   "source": [
    "import torch\n",
    "print(torch.__version__)\n",
    "\n",
    "import onnxscript\n",
    "print(onnxscript.__version__)\n",
    "\n",
    "from onnxscript import opset18  # opset 18 is the latest (and only) supported version for now\n",
    "\n",
    "import onnxruntime\n",
    "print(onnxruntime.__version__)\n",
    "\n",
    "import onnx"
   ]
  },
  {
   "cell_type": "code",
   "execution_count": 2,
   "metadata": {
    "ExecuteTime": {
     "end_time": "2024-07-25T09:10:44.121426600Z",
     "start_time": "2024-07-25T09:10:44.101374900Z"
    },
    "collapsed": false
   },
   "outputs": [],
   "source": [
    "import torch\n",
    "import torch.nn as nn\n",
    "import torch.nn.functional as F\n",
    "\n",
    "\n",
    "class MyModel(nn.Module):\n",
    "\n",
    "    def __init__(self):\n",
    "        super(MyModel, self).__init__()\n",
    "        self.conv1 = nn.Conv2d(1, 6, 5)\n",
    "        self.conv2 = nn.Conv2d(6, 16, 5)\n",
    "        self.fc1 = nn.Linear(16 * 5 * 5, 120)\n",
    "        self.fc2 = nn.Linear(120, 84)\n",
    "        self.fc3 = nn.Linear(84, 10)\n",
    "\n",
    "    def forward(self, x):\n",
    "        x = F.max_pool2d(F.relu(self.conv1(x)), (2, 2))\n",
    "        x = F.max_pool2d(F.relu(self.conv2(x)), 2)\n",
    "        x = torch.flatten(x, 1)\n",
    "        x = F.relu(self.fc1(x))\n",
    "        x = F.relu(self.fc2(x))\n",
    "        x = self.fc3(x)\n",
    "        return x"
   ]
  },
  {
   "cell_type": "code",
   "execution_count": 3,
   "metadata": {
    "ExecuteTime": {
     "end_time": "2024-07-25T09:10:47.005572200Z",
     "start_time": "2024-07-25T09:10:44.121426600Z"
    },
    "collapsed": false
   },
   "outputs": [
    {
     "name": "stderr",
     "output_type": "stream",
     "text": [
      "d:\\Anaconda\\envs\\depression\\lib\\site-packages\\torch\\onnx\\_internal\\exporter.py:137: UserWarning: torch.onnx.dynamo_export only implements opset version 18 for now. If you need to use a different opset version, please register them with register_custom_op.\n",
      "  warnings.warn(\n"
     ]
    }
   ],
   "source": [
    "model = MyModel()\n",
    "torch_input = torch.randn(1, 1, 32, 32)\n",
    "onnx_program = torch.onnx.dynamo_export(model, torch_input)"
   ]
  },
  {
   "cell_type": "code",
   "execution_count": 4,
   "metadata": {
    "ExecuteTime": {
     "end_time": "2024-07-25T09:10:47.021738700Z",
     "start_time": "2024-07-25T09:10:47.007576200Z"
    },
    "collapsed": false
   },
   "outputs": [
    {
     "data": {
      "text/plain": [
       "torch.onnx.ONNXProgram"
      ]
     },
     "execution_count": 4,
     "metadata": {},
     "output_type": "execute_result"
    }
   ],
   "source": [
    "type(onnx_program)"
   ]
  },
  {
   "cell_type": "code",
   "execution_count": 5,
   "metadata": {
    "ExecuteTime": {
     "end_time": "2024-07-25T09:10:47.049426300Z",
     "start_time": "2024-07-25T09:10:47.021738700Z"
    },
    "collapsed": false
   },
   "outputs": [],
   "source": [
    "onnx_program.save(\"model_test.onnx\")"
   ]
  },
  {
   "cell_type": "code",
   "execution_count": 6,
   "metadata": {
    "ExecuteTime": {
     "end_time": "2024-07-25T09:10:47.059459600Z",
     "start_time": "2024-07-25T09:10:47.040403100Z"
    },
    "collapsed": false
   },
   "outputs": [],
   "source": [
    "onnx_model = onnx.load(\"model_test.onnx\")\n",
    "onnx.checker.check_model(onnx_model)"
   ]
  },
  {
   "cell_type": "code",
   "execution_count": 7,
   "metadata": {
    "ExecuteTime": {
     "end_time": "2024-07-25T09:10:47.068485900Z",
     "start_time": "2024-07-25T09:10:47.054440300Z"
    },
    "collapsed": false
   },
   "outputs": [
    {
     "data": {
      "text/plain": [
       "onnx.onnx_ml_pb2.ModelProto"
      ]
     },
     "execution_count": 7,
     "metadata": {},
     "output_type": "execute_result"
    }
   ],
   "source": [
    "type(onnx_model)"
   ]
  },
  {
   "cell_type": "code",
   "execution_count": 8,
   "metadata": {
    "ExecuteTime": {
     "end_time": "2024-07-25T09:10:47.136244900Z",
     "start_time": "2024-07-25T09:10:47.072487400Z"
    },
    "collapsed": false
   },
   "outputs": [
    {
     "name": "stdout",
     "output_type": "stream",
     "text": [
      "Input length: 1\n",
      "Sample input: (tensor([[[[-0.0738, -1.2470, -0.4809,  ..., -1.2223, -0.6317,  0.6253],\n",
      "          [-0.0137, -1.5498, -0.2800,  ...,  0.7993, -0.8143,  2.4987],\n",
      "          [-0.8035, -1.2920, -0.6143,  ..., -1.2958, -0.0844,  0.0715],\n",
      "          ...,\n",
      "          [ 0.5365,  0.2230,  0.5253,  ...,  0.6625, -0.0130, -1.3151],\n",
      "          [-0.8605, -1.6757, -0.5549,  ...,  0.1405, -0.7908, -1.1467],\n",
      "          [ 0.7817, -0.2687, -0.0614,  ...,  0.1668,  0.8369, -0.5398]]]]),)\n"
     ]
    }
   ],
   "source": [
    "import onnxruntime\n",
    "\n",
    "onnx_input = onnx_program.adapt_torch_inputs_to_onnx(torch_input)\n",
    "print(f\"Input length: {len(onnx_input)}\")\n",
    "print(f\"Sample input: {onnx_input}\")\n",
    "\n",
    "ort_session = onnxruntime.InferenceSession(\"./model_test.onnx\", providers=['CPUExecutionProvider'])\n",
    "\n",
    "def to_numpy(tensor):\n",
    "    return tensor.detach().cpu().numpy() if tensor.requires_grad else tensor.cpu().numpy()\n",
    "\n",
    "onnxruntime_input = {k.name: to_numpy(v) for k, v in zip(ort_session.get_inputs(), onnx_input)}\n",
    "\n",
    "onnxruntime_outputs = ort_session.run(None, onnxruntime_input)"
   ]
  },
  {
   "cell_type": "code",
   "execution_count": 9,
   "metadata": {
    "ExecuteTime": {
     "end_time": "2024-07-25T09:10:47.176745100Z",
     "start_time": "2024-07-25T09:10:47.133115Z"
    },
    "collapsed": false
   },
   "outputs": [
    {
     "data": {
      "text/plain": [
       "list"
      ]
     },
     "execution_count": 9,
     "metadata": {},
     "output_type": "execute_result"
    }
   ],
   "source": [
    "type(onnxruntime_outputs)"
   ]
  },
  {
   "cell_type": "code",
   "execution_count": 10,
   "metadata": {
    "ExecuteTime": {
     "end_time": "2024-07-25T09:10:47.191786400Z",
     "start_time": "2024-07-25T09:10:47.148658400Z"
    },
    "collapsed": false
   },
   "outputs": [
    {
     "data": {
      "text/plain": [
       "[array([[-0.15734848,  0.10147543, -0.08366099, -0.00755851,  0.07382713,\n",
       "         -0.07885513, -0.0932669 , -0.1155888 , -0.09175342,  0.05691574]],\n",
       "       dtype=float32)]"
      ]
     },
     "execution_count": 10,
     "metadata": {},
     "output_type": "execute_result"
    }
   ],
   "source": [
    "onnxruntime_outputs"
   ]
  },
  {
   "cell_type": "markdown",
   "metadata": {
    "collapsed": false
   },
   "source": [
    "## ready to transform to native Pytorch model"
   ]
  },
  {
   "cell_type": "code",
   "execution_count": 11,
   "metadata": {
    "ExecuteTime": {
     "end_time": "2024-07-25T09:15:07.325751200Z",
     "start_time": "2024-07-25T09:15:07.243990600Z"
    },
    "collapsed": false
   },
   "outputs": [],
   "source": [
    "from onnx2torch import convert\n",
    "# from onnx2pytorch import ConvertModel"
   ]
  },
  {
   "cell_type": "code",
   "execution_count": 12,
   "metadata": {
    "ExecuteTime": {
     "end_time": "2024-07-25T09:15:08.172129300Z",
     "start_time": "2024-07-25T09:15:08.127000600Z"
    },
    "collapsed": false
   },
   "outputs": [
    {
     "data": {
      "text/plain": [
       "GraphModule(\n",
       "  (torch_nn_modules_conv_Conv2d_conv1_1_1_Conv_0): Conv2d(1, 6, kernel_size=(5, 5), stride=(1, 1))\n",
       "  (aten_relu_2_n0): ReLU()\n",
       "  (MaxPool_3): MaxPool2d(kernel_size=[2, 2], stride=[2, 2], padding=[0, 0], dilation=[1, 1], ceil_mode=False)\n",
       "  (torch_nn_modules_conv_Conv2d_conv2_1_10_Conv_0): Conv2d(6, 16, kernel_size=(5, 5), stride=(1, 1))\n",
       "  (aten_relu_11_n0): ReLU()\n",
       "  (MaxPool_12): MaxPool2d(kernel_size=[2, 2], stride=[2, 2], padding=[0, 0], dilation=[1, 1], ceil_mode=False)\n",
       "  (Constant): OnnxConstant()\n",
       "  (Reshape_21): OnnxReshape()\n",
       "  (Constant_1): OnnxConstant()\n",
       "  (initializers): Module()\n",
       "  (torch_nn_modules_linear_Linear_fc1_1_22_aten_addmm_1_n0): OnnxGemm()\n",
       "  (aten_relu_23_n0): ReLU()\n",
       "  (Constant_2): OnnxConstant()\n",
       "  (torch_nn_modules_linear_Linear_fc2_1_24_aten_addmm_1_n0): OnnxGemm()\n",
       "  (aten_relu_25_n0): ReLU()\n",
       "  (Constant_3): OnnxConstant()\n",
       "  (torch_nn_modules_linear_Linear_fc3_1_26_aten_addmm_1_n0): OnnxGemm()\n",
       ")"
      ]
     },
     "execution_count": 12,
     "metadata": {},
     "output_type": "execute_result"
    }
   ],
   "source": [
    "torch_model = convert(onnx_model)\n",
    "torch_model"
   ]
  },
  {
   "cell_type": "markdown",
   "metadata": {
    "collapsed": false
   },
   "source": [
    "### compare native model parameters with transformed model's parameters"
   ]
  },
  {
   "cell_type": "code",
   "execution_count": 14,
   "metadata": {
    "ExecuteTime": {
     "end_time": "2024-07-25T09:17:29.362093800Z",
     "start_time": "2024-07-25T09:17:29.348098800Z"
    },
    "collapsed": false
   },
   "outputs": [
    {
     "name": "stdout",
     "output_type": "stream",
     "text": [
      "Parameter containing:\n",
      "tensor([[[[-1.9584e-01,  1.9015e-01,  1.6752e-04, -1.9745e-02,  1.7147e-01],\n",
      "          [-1.9642e-01,  5.9971e-02,  7.6872e-02,  1.3239e-01,  8.9234e-03],\n",
      "          [ 1.0216e-01, -3.6773e-02,  1.5789e-01, -1.9236e-01,  1.0799e-01],\n",
      "          [-7.1792e-02,  1.2483e-01, -1.9534e-01,  1.8139e-01, -8.4642e-02],\n",
      "          [ 1.8736e-01, -1.2367e-01,  1.0867e-01, -1.6235e-01,  1.6699e-01]]],\n",
      "\n",
      "\n",
      "        [[[ 1.8887e-01, -1.3021e-01,  1.2391e-01, -1.5503e-01,  3.3777e-02],\n",
      "          [-5.1727e-02,  1.8902e-01, -1.4596e-01,  5.5943e-02,  1.5232e-01],\n",
      "          [-1.1762e-01,  7.0078e-02,  8.8413e-02, -1.6833e-01,  2.6654e-02],\n",
      "          [-1.9923e-01,  1.3626e-01, -1.6662e-01, -6.1196e-02,  1.6797e-01],\n",
      "          [-1.9300e-01,  3.9912e-02, -1.8984e-01, -3.9656e-02, -1.3479e-02]]],\n",
      "\n",
      "\n",
      "        [[[-8.5220e-02,  1.3631e-01, -7.7719e-02,  1.3761e-01,  1.3421e-01],\n",
      "          [-1.5418e-01,  1.5575e-01, -1.3451e-01,  1.6811e-01, -9.4692e-02],\n",
      "          [-3.8944e-03, -1.6381e-02,  7.4568e-02, -1.1932e-01, -7.4729e-03],\n",
      "          [ 1.6362e-01, -1.0061e-01,  9.7308e-03,  2.0462e-03,  6.9432e-02],\n",
      "          [ 5.7363e-02,  9.9827e-02,  1.9226e-01,  5.0931e-03, -1.8414e-01]]],\n",
      "\n",
      "\n",
      "        [[[ 1.5525e-01, -1.2932e-01, -7.0767e-02, -1.6856e-02,  3.0277e-02],\n",
      "          [ 5.4081e-02, -9.2230e-02,  1.9627e-01, -8.8936e-02, -6.5096e-02],\n",
      "          [-1.9541e-01, -1.0225e-01,  1.5302e-01,  4.0125e-02,  1.6734e-01],\n",
      "          [-9.9476e-02, -1.2838e-01, -1.2163e-01,  1.5392e-01,  8.0084e-02],\n",
      "          [-4.6086e-02, -4.9295e-02, -3.2550e-02,  4.3057e-02,  1.8546e-01]]],\n",
      "\n",
      "\n",
      "        [[[-2.2417e-02,  1.4419e-01, -9.8403e-02,  8.9988e-02,  4.0929e-02],\n",
      "          [-3.0244e-02, -1.2291e-01,  6.4595e-02, -1.7413e-01,  5.5096e-02],\n",
      "          [-1.8963e-01, -1.1859e-01,  1.0151e-01,  1.7203e-01,  1.5997e-01],\n",
      "          [ 1.9060e-01, -9.8979e-02, -6.1983e-02,  3.1664e-02, -5.8680e-03],\n",
      "          [ 5.4483e-02,  2.3094e-02, -1.4147e-01,  6.3867e-02,  1.5869e-01]]],\n",
      "\n",
      "\n",
      "        [[[ 1.7298e-01,  1.2635e-01,  1.6968e-02, -1.1845e-01, -1.7116e-01],\n",
      "          [ 1.5989e-02,  9.2257e-02,  6.7570e-02,  1.1500e-02,  3.4323e-02],\n",
      "          [ 4.2957e-02, -6.7194e-02, -3.6540e-02, -1.2927e-01, -7.0592e-02],\n",
      "          [ 2.0435e-03, -1.4934e-01, -2.4978e-03,  1.8039e-01,  2.4746e-02],\n",
      "          [-1.0252e-01, -9.0299e-03,  1.6870e-01,  1.4232e-01, -1.1055e-01]]]],\n",
      "       requires_grad=True)\n"
     ]
    }
   ],
   "source": [
    "for value in model.parameters():\n",
    "    print(value)\n",
    "    break"
   ]
  },
  {
   "cell_type": "code",
   "execution_count": 20,
   "metadata": {
    "ExecuteTime": {
     "end_time": "2024-07-25T09:17:42.823422Z",
     "start_time": "2024-07-25T09:17:42.815871600Z"
    },
    "collapsed": false
   },
   "outputs": [
    {
     "name": "stdout",
     "output_type": "stream",
     "text": [
      "Parameter containing:\n",
      "tensor([[[[-0.1652, -0.0676,  0.0429,  0.1445,  0.0531],\n",
      "          [ 0.0162,  0.0668,  0.0195,  0.1646, -0.0267],\n",
      "          [ 0.1495, -0.1044,  0.1614, -0.0026, -0.0051],\n",
      "          [ 0.1450,  0.0476, -0.1513, -0.1519,  0.1008],\n",
      "          [ 0.0947, -0.1343, -0.1398,  0.1571,  0.1432]]],\n",
      "\n",
      "\n",
      "        [[[ 0.0950, -0.0642,  0.1295,  0.1532,  0.1561],\n",
      "          [-0.0454,  0.1509,  0.1706, -0.0137, -0.0611],\n",
      "          [ 0.0958, -0.0243,  0.0590, -0.0385, -0.0975],\n",
      "          [ 0.0471, -0.0112, -0.0990, -0.0416,  0.0571],\n",
      "          [-0.0812, -0.0369, -0.0034,  0.1992, -0.1905]]],\n",
      "\n",
      "\n",
      "        [[[ 0.1827,  0.1212,  0.1868, -0.1294,  0.1722],\n",
      "          [ 0.0441,  0.0315,  0.1384, -0.0743, -0.1234],\n",
      "          [ 0.1914, -0.0528,  0.1493, -0.0461,  0.1197],\n",
      "          [ 0.1537,  0.0287,  0.0793,  0.0761, -0.1018],\n",
      "          [-0.1051,  0.1933,  0.1802,  0.0079,  0.1572]]],\n",
      "\n",
      "\n",
      "        [[[ 0.1726, -0.1499,  0.0470, -0.1310, -0.0217],\n",
      "          [-0.1805,  0.1859, -0.1632,  0.1520, -0.1076],\n",
      "          [-0.1366, -0.0245, -0.0844, -0.1793, -0.0379],\n",
      "          [ 0.1982, -0.1671,  0.0802, -0.1940,  0.1973],\n",
      "          [-0.1258,  0.0141,  0.0174,  0.0838,  0.1111]]],\n",
      "\n",
      "\n",
      "        [[[-0.1883, -0.1155,  0.1570, -0.1300,  0.1297],\n",
      "          [ 0.1472,  0.1780,  0.1020, -0.1638, -0.0474],\n",
      "          [-0.0406, -0.0659, -0.0497,  0.0363,  0.0027],\n",
      "          [-0.1941, -0.0244,  0.0672, -0.1122, -0.1242],\n",
      "          [-0.1973,  0.1700, -0.0151, -0.1453, -0.1951]]],\n",
      "\n",
      "\n",
      "        [[[-0.1446, -0.1661, -0.1354,  0.1151,  0.0905],\n",
      "          [ 0.1377, -0.0969, -0.0189, -0.1212, -0.1231],\n",
      "          [ 0.0464, -0.0172, -0.1549, -0.1253, -0.1937],\n",
      "          [ 0.1442,  0.0444,  0.1898, -0.1018,  0.0700],\n",
      "          [-0.1452, -0.0141, -0.0893, -0.0776,  0.1617]]]], requires_grad=True)\n"
     ]
    }
   ],
   "source": [
    "for value in torch_model.parameters():\n",
    "    print(value)\n",
    "    break"
   ]
  }
 ],
 "metadata": {
  "kernelspec": {
   "display_name": "Python 3",
   "language": "python",
   "name": "python3"
  },
  "language_info": {
   "codemirror_mode": {
    "name": "ipython",
    "version": 3
   },
   "file_extension": ".py",
   "mimetype": "text/x-python",
   "name": "python",
   "nbconvert_exporter": "python",
   "pygments_lexer": "ipython3",
   "version": "3.10.14"
  }
 },
 "nbformat": 4,
 "nbformat_minor": 0
}
