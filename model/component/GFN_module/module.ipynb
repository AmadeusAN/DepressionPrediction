{
 "cells": [
  {
   "cell_type": "code",
   "execution_count": 24,
   "metadata": {
    "collapsed": true,
    "ExecuteTime": {
     "end_time": "2024-08-03T03:38:16.250283800Z",
     "start_time": "2024-08-03T03:38:16.242261100Z"
    }
   },
   "outputs": [],
   "source": [
    "import torch\n",
    "import torch.nn as nn\n",
    "import numpy as np"
   ]
  },
  {
   "cell_type": "code",
   "execution_count": 25,
   "outputs": [],
   "source": [
    "k = 120\n",
    "V_1 = torch.randn(size=(1, k))\n",
    "V_2 = torch.randn(size=(1, k))\n",
    "V_3 = torch.randn(size=(1, k))"
   ],
   "metadata": {
    "collapsed": false,
    "ExecuteTime": {
     "end_time": "2024-08-03T03:38:16.560451300Z",
     "start_time": "2024-08-03T03:38:16.541807200Z"
    }
   }
  },
  {
   "cell_type": "markdown",
   "source": [
    "## First layer"
   ],
   "metadata": {
    "collapsed": false
   }
  },
  {
   "cell_type": "code",
   "execution_count": 26,
   "outputs": [],
   "source": [
    "class modal_attention_network(nn.Module):\n",
    "    def __init__(self, input_dim, output_dim, dropout):\n",
    "        super().__init__()\n",
    "        self.fc = nn.Linear(input_dim, output_dim)\n",
    "        self.sigmoid = nn.Sigmoid()\n",
    "\n",
    "    def forward(self, x):\n",
    "        x = self.fc(x)\n",
    "        x = self.sigmoid(x)\n",
    "        return x\n",
    "\n",
    "\n",
    "class FirstLayer(nn.Module):\n",
    "    def __init__(self, input_dim, dropout):\n",
    "        super().__init__()\n",
    "        self.modal_attention_network = modal_attention_network(input_dim, 1, dropout)\n",
    "\n",
    "    def forward(self, x_1, x_2, x_3):\n",
    "        a_1 = self.modal_attention_network(x_1)\n",
    "        a_2 = self.modal_attention_network(x_2)\n",
    "        a_3 = self.modal_attention_network(x_3)\n",
    "        U = 1 / 3 * torch.sum(torch.stack([a_1 * x_1, a_2 * x_2, a_3 * x_3], dim=1), dim=1)\n",
    "        return U, a_1, a_2, a_3"
   ],
   "metadata": {
    "collapsed": false,
    "ExecuteTime": {
     "end_time": "2024-08-03T03:38:18.943096700Z",
     "start_time": "2024-08-03T03:38:18.924028800Z"
    }
   }
  },
  {
   "cell_type": "code",
   "execution_count": 27,
   "outputs": [
    {
     "data": {
      "text/plain": "torch.Size([1, 120])"
     },
     "execution_count": 27,
     "metadata": {},
     "output_type": "execute_result"
    }
   ],
   "source": [
    "first_layer = FirstLayer(k, 0.5)\n",
    "U, a_1, a_2, a_3 = first_layer(V_1, V_2, V_3)\n",
    "U.shape"
   ],
   "metadata": {
    "collapsed": false,
    "ExecuteTime": {
     "end_time": "2024-08-03T03:38:19.282343300Z",
     "start_time": "2024-08-03T03:38:19.257303800Z"
    }
   }
  },
  {
   "cell_type": "code",
   "execution_count": 28,
   "outputs": [],
   "source": [
    "class MultiLayerNeuralFusionNetwork(nn.Module):\n",
    "    '''\n",
    "    :input: 两种模态向量\n",
    "    :output: 双模态节点\n",
    "    '''\n",
    "\n",
    "    def __init__(self, input_dim):\n",
    "        super().__init__()\n",
    "        self.fusion_layer = nn.Linear(2 * input_dim, input_dim)\n",
    "\n",
    "    def forward(self, x_1, x_2):\n",
    "        return self.fusion_layer(torch.cat([x_1, x_2], dim=1))"
   ],
   "metadata": {
    "collapsed": false,
    "ExecuteTime": {
     "end_time": "2024-08-03T03:38:20.870968200Z",
     "start_time": "2024-08-03T03:38:20.854345300Z"
    }
   }
  },
  {
   "cell_type": "code",
   "execution_count": 33,
   "outputs": [
    {
     "data": {
      "text/plain": "torch.Size([1, 120])"
     },
     "execution_count": 33,
     "metadata": {},
     "output_type": "execute_result"
    }
   ],
   "source": [
    "multilayer_neural_fusion_network = MultiLayerNeuralFusionNetwork(k)\n",
    "multilayer_neural_fusion_network(V_1, V_2).shape"
   ],
   "metadata": {
    "collapsed": false,
    "ExecuteTime": {
     "end_time": "2024-08-03T03:39:02.475035300Z",
     "start_time": "2024-08-03T03:39:02.459428Z"
    }
   }
  },
  {
   "cell_type": "code",
   "execution_count": 34,
   "outputs": [],
   "source": [
    "class SecondLayer(nn.Module):\n",
    "    def __init__(self, k: int = 120):\n",
    "        super().__init__()\n",
    "        self.multilayer_neural_fusion_network = MultiLayerNeuralFusionNetwork(k)\n",
    "\n",
    "    def forward(self, x_1, x_2, x_3, a_1, a_2, a_3):\n",
    "        V_12 = self.multilayer_neural_fusion_network(x_1, x_2)\n",
    "        V_13 = self.multilayer_neural_fusion_network(x_1, x_3)\n",
    "        V_23 = self.multilayer_neural_fusion_network(x_2, x_3)\n",
    "\n",
    "        S_12 = x_1 @ x_2.T\n",
    "        S_13 = x_1 @ x_3.T\n",
    "        S_23 = x_2 @ x_3.T\n",
    "\n",
    "        a_12_hat = (a_1 + a_2) / (S_12 + 0.5)\n",
    "        a_13_hat = (a_1 + a_3) / (S_13 + 0.5)\n",
    "        a_23_hat = (a_2 + a_3) / (S_23 + 0.5)\n",
    "\n",
    "        a_12 = torch.exp(a_12_hat) / (torch.exp(a_13_hat) + torch.exp(a_23_hat))\n",
    "        a_13 = torch.exp(a_13_hat) / (torch.exp(a_12_hat) + torch.exp(a_23_hat))\n",
    "        a_23 = torch.exp(a_23_hat) / (torch.exp(a_12_hat) + torch.exp(a_13_hat))\n",
    "\n",
    "        B = torch.sum(torch.stack([a_12 * V_12, a_13 * V_13, a_23 * V_23], dim=1), dim=1)\n",
    "        return B, a_12, a_13, a_23, V_12, V_13, V_23"
   ],
   "metadata": {
    "collapsed": false,
    "ExecuteTime": {
     "end_time": "2024-08-03T03:39:04.176624Z",
     "start_time": "2024-08-03T03:39:04.170049100Z"
    }
   }
  },
  {
   "cell_type": "code",
   "execution_count": 35,
   "outputs": [],
   "source": [
    "second_layer = SecondLayer()\n",
    "B, a_12, a_13, a_23, V_12, V_13, V_23 = second_layer(V_1, V_2, V_3, a_1, a_2, a_3)"
   ],
   "metadata": {
    "collapsed": false,
    "ExecuteTime": {
     "end_time": "2024-08-03T03:39:04.500135700Z",
     "start_time": "2024-08-03T03:39:04.488106Z"
    }
   }
  },
  {
   "cell_type": "code",
   "execution_count": 36,
   "outputs": [
    {
     "data": {
      "text/plain": "torch.Size([1, 120])"
     },
     "execution_count": 36,
     "metadata": {},
     "output_type": "execute_result"
    }
   ],
   "source": [
    "B.shape"
   ],
   "metadata": {
    "collapsed": false,
    "ExecuteTime": {
     "end_time": "2024-08-03T03:39:04.724326900Z",
     "start_time": "2024-08-03T03:39:04.705702800Z"
    }
   }
  },
  {
   "cell_type": "code",
   "execution_count": 37,
   "outputs": [],
   "source": [
    "class fusion_layer_for_thirdmodal(nn.Module):\n",
    "    def __init__(self, k: int = 120):\n",
    "        super().__init__()\n",
    "        self.multilayer_neural_fusion_network = MultiLayerNeuralFusionNetwork(k)\n",
    "\n",
    "    def forward(self, V_1, V_23, V_2, V_13, V_3, V_12, a_1, a_23, a_2, a_13, a_3, a_12):\n",
    "        V_1_23 = self.multilayer_neural_fusion_network(V_1, V_23)\n",
    "        V_2_13 = self.multilayer_neural_fusion_network(V_2, V_13)\n",
    "        V_3_12 = self.multilayer_neural_fusion_network(V_3, V_12)\n",
    "\n",
    "        S_1_23 = V_1 @ V_23.T\n",
    "        S_2_13 = V_2 @ V_13.T\n",
    "        S_3_12 = V_3 @ V_12.T\n",
    "\n",
    "        a_1_23_hat = (a_1 + a_23) / (S_1_23 + 0.5)\n",
    "        a_2_13_hat = (a_2 + a_13) / (S_2_13 + 0.5)\n",
    "        a_3_12_hat = (a_3 + a_12) / (S_3_12 + 0.5)\n",
    "        a_1_23 = torch.exp(a_1_23_hat) / (torch.exp(a_2_13_hat) + torch.exp(a_3_12_hat))\n",
    "        a_2_13 = torch.exp(a_2_13_hat) / (torch.exp(a_1_23_hat) + torch.exp(a_3_12_hat))\n",
    "        a_3_12 = torch.exp(a_3_12_hat) / (torch.exp(a_1_23_hat) + torch.exp(a_2_13_hat))\n",
    "\n",
    "        return V_1_23, V_2_13, V_3_12, a_1_23, a_2_13, a_3_12\n",
    "\n"
   ],
   "metadata": {
    "collapsed": false,
    "ExecuteTime": {
     "end_time": "2024-08-03T03:39:06.400787300Z",
     "start_time": "2024-08-03T03:39:06.386941300Z"
    }
   }
  },
  {
   "cell_type": "code",
   "execution_count": 38,
   "outputs": [],
   "source": [
    "class ThirdLayer(nn.Module):\n",
    "    def __init__(self, k: int = 120):\n",
    "        super().__init__()\n",
    "        self.fusion_module_1 = SecondLayer(k)\n",
    "        self.fusion_module_2 = fusion_layer_for_thirdmodal(k)\n",
    "\n",
    "    def forward(self, V_1, V_2, V_3, V_12, V_13, V_23, a_1, a_2, a_3, a_12, a_13, a_23):\n",
    "        _, a_1213, a_1223, a_1323, V_1213, V_1223, V_1323 = self.fusion_module_1(V_12, V_13, V_23, a_12, a_13, a_23)\n",
    "        V_1_23, V_2_13, V_3_12, a_1_23, a_2_13, a_3_12 = self.fusion_module_2(V_1, V_23, V_2, V_13, V_3, V_12, a_1,\n",
    "                                                                              a_23, a_2, a_13, a_3, a_12)\n",
    "        O = torch.sum(torch.stack(\n",
    "            [a_1_23 * V_1_23, a_2_13 * V_2_13, a_3_12 * V_3_12, a_1213 * V_1213, a_1223 * V_1223, a_1323 * V_1323],\n",
    "            dim=1), dim=1)\n",
    "        return O"
   ],
   "metadata": {
    "collapsed": false,
    "ExecuteTime": {
     "end_time": "2024-08-03T03:39:08.622921600Z",
     "start_time": "2024-08-03T03:39:08.613361900Z"
    }
   }
  },
  {
   "cell_type": "code",
   "execution_count": 39,
   "outputs": [
    {
     "data": {
      "text/plain": "torch.Size([1, 120])"
     },
     "execution_count": 39,
     "metadata": {},
     "output_type": "execute_result"
    }
   ],
   "source": [
    "third_layer = ThirdLayer()\n",
    "O = third_layer(V_1, V_2, V_3, V_12, V_13, V_23, a_1, a_2, a_3, a_12, a_13, a_23)\n",
    "O.shape"
   ],
   "metadata": {
    "collapsed": false,
    "ExecuteTime": {
     "end_time": "2024-08-03T03:39:08.959306100Z",
     "start_time": "2024-08-03T03:39:08.940207300Z"
    }
   }
  },
  {
   "cell_type": "code",
   "execution_count": null,
   "outputs": [],
   "source": [],
   "metadata": {
    "collapsed": false
   }
  }
 ],
 "metadata": {
  "kernelspec": {
   "display_name": "Python 3",
   "language": "python",
   "name": "python3"
  },
  "language_info": {
   "codemirror_mode": {
    "name": "ipython",
    "version": 2
   },
   "file_extension": ".py",
   "mimetype": "text/x-python",
   "name": "python",
   "nbconvert_exporter": "python",
   "pygments_lexer": "ipython2",
   "version": "2.7.6"
  }
 },
 "nbformat": 4,
 "nbformat_minor": 0
}
