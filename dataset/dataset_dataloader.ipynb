{
 "cells": [
  {
   "cell_type": "code",
   "execution_count": 2,
   "metadata": {},
   "outputs": [],
   "source": [
    "import torch\n",
    "import torch.nn as nn\n",
    "import numpy as np\n",
    "from torch.utils.data import Dataset, DataLoader\n",
    "from os.path import join"
   ]
  },
  {
   "cell_type": "code",
   "execution_count": 3,
   "metadata": {},
   "outputs": [],
   "source": [
    "DATASET_RAW_DIR = \"/public1/cjh/workspace/DepressionPrediction/dataset/EATD-Corpus\"\n",
    "TRAIN_DATASET_DIR = join(DATASET_RAW_DIR,\"train\")\n",
    "VAL_DATASET_DIR = join(DATASET_RAW_DIR,\"validation\")\n",
    "\n",
    "NDARRAY_DIR = \"/public1/cjh/workspace/DepressionPrediction/dataset/raw_ndarray\"\n",
    "NDARRAY_TRAIN_DIR = join(NDARRAY_DIR,\"train\")"
   ]
  }
 ],
 "metadata": {
  "kernelspec": {
   "display_name": "depression",
   "language": "python",
   "name": "python3"
  },
  "language_info": {
   "codemirror_mode": {
    "name": "ipython",
    "version": 3
   },
   "file_extension": ".py",
   "mimetype": "text/x-python",
   "name": "python",
   "nbconvert_exporter": "python",
   "pygments_lexer": "ipython3",
   "version": "3.10.14"
  }
 },
 "nbformat": 4,
 "nbformat_minor": 2
}
