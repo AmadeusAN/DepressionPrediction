{
 "cells": [
  {
   "cell_type": "code",
   "execution_count": 12,
   "metadata": {},
   "outputs": [],
   "source": [
    "import torch\n",
    "import torch.nn as nn\n",
    "import numpy as np\n",
    "from torch.utils.data import Dataset, DataLoader\n",
    "from os.path import join\n",
    "from dataset_dataloader import get_tri_train_val_dataloader"
   ]
  },
  {
   "cell_type": "code",
   "execution_count": 13,
   "metadata": {},
   "outputs": [],
   "source": [
    "DATASET_RAW_DIR = \"/public1/cjh/workspace/DepressionPrediction/dataset/EATD-Corpus\"\n",
    "TRAIN_DATASET_DIR = join(DATASET_RAW_DIR,\"train\")\n",
    "VAL_DATASET_DIR = join(DATASET_RAW_DIR,\"validation\")\n",
    "\n",
    "NDARRAY_DIR = \"/public1/cjh/workspace/DepressionPrediction/dataset/raw_ndarray\"\n",
    "NDARRAY_TRAIN_DIR = join(NDARRAY_DIR,\"train\")\n",
    "\n",
    "class WaveformTFDataset(Dataset):\n",
    "    def __init__(self,):\n",
    "        super(WaveformTFDataset,self).__init__()\n",
    "        self.data_np = np.load(join(NDARRAY_TRAIN_DIR,\"waveform_tf_raw.npz\"))[\"arr_0\"]\n",
    "    \n",
    "    def __len__(self,):\n",
    "        return len(self.data_np)\n",
    "    \n",
    "    def __getitem__(self, index):\n",
    "        return self.data_np[index]\n"
   ]
  },
  {
   "cell_type": "code",
   "execution_count": 5,
   "metadata": {},
   "outputs": [
    {
     "data": {
      "text/plain": [
       "<__main__.WaveformTFDataset at 0x7f5cfdd46ec0>"
      ]
     },
     "execution_count": 5,
     "metadata": {},
     "output_type": "execute_result"
    }
   ],
   "source": [
    "wavefromtfdataset = WaveformTFDataset()\n",
    "wavefromtfdataset"
   ]
  },
  {
   "cell_type": "code",
   "execution_count": 7,
   "metadata": {},
   "outputs": [
    {
     "name": "stdout",
     "output_type": "stream",
     "text": [
      "(2, 1025, 1025)\n"
     ]
    }
   ],
   "source": [
    "for data in wavefromtfdataset:\n",
    "    print(data.shape)\n",
    "    break"
   ]
  },
  {
   "cell_type": "code",
   "execution_count": 10,
   "metadata": {},
   "outputs": [],
   "source": [
    "class EmotinoHiddVecDataset(Dataset):\n",
    "    def __init__(self,):\n",
    "        super(EmotinoHiddVecDataset,self).__init__()\n",
    "        self.data_np = np.load(join(NDARRAY_TRAIN_DIR,\"emotion_hiddenvec_raw.npz\"))[\"arr_0\"]\n",
    "    \n",
    "    def __len__(self,):\n",
    "        return len(self.data_np)\n",
    "    \n",
    "    def __getitem__(self, index):\n",
    "        return self.data_np[index]"
   ]
  },
  {
   "cell_type": "code",
   "execution_count": 11,
   "metadata": {},
   "outputs": [
    {
     "data": {
      "text/plain": [
       "<__main__.EmotinoHiddVecDataset at 0x7f5cfd028310>"
      ]
     },
     "execution_count": 11,
     "metadata": {},
     "output_type": "execute_result"
    }
   ],
   "source": [
    "emotion_hidden_vec_dataset = EmotinoHiddVecDataset()\n",
    "emotion_hidden_vec_dataset"
   ]
  },
  {
   "cell_type": "code",
   "execution_count": 12,
   "metadata": {},
   "outputs": [
    {
     "name": "stdout",
     "output_type": "stream",
     "text": [
      "(1024,)\n"
     ]
    }
   ],
   "source": [
    "for data in emotion_hidden_vec_dataset:\n",
    "    print(data.shape)\n",
    "    break"
   ]
  },
  {
   "cell_type": "code",
   "execution_count": 10,
   "metadata": {},
   "outputs": [
    {
     "data": {
      "text/plain": [
       "(249, 384)"
      ]
     },
     "execution_count": 10,
     "metadata": {},
     "output_type": "execute_result"
    }
   ],
   "source": [
    "data_np = np.load(join(NDARRAY_TRAIN_DIR,\"text_raw.npz\"))[\"arr_0\"]\n",
    "data_np.shape"
   ]
  },
  {
   "cell_type": "code",
   "execution_count": 11,
   "metadata": {},
   "outputs": [
    {
     "data": {
      "text/plain": [
       "249"
      ]
     },
     "execution_count": 11,
     "metadata": {},
     "output_type": "execute_result"
    }
   ],
   "source": [
    "len(data_np)"
   ]
  },
  {
   "cell_type": "code",
   "execution_count": 12,
   "metadata": {},
   "outputs": [],
   "source": [
    "class TextVecDataset(Dataset):\n",
    "    def __init__(self,):\n",
    "        super(TextVecDataset,self).__init__()\n",
    "        self.data_np = np.load(join(NDARRAY_TRAIN_DIR,\"text_raw.npz\"))[\"arr_0\"]\n",
    "    \n",
    "    def __len__(self,):\n",
    "        return len(self.data_np)\n",
    "    \n",
    "    def __getitem__(self, index):\n",
    "        return self.data_np[index]"
   ]
  },
  {
   "cell_type": "code",
   "execution_count": 7,
   "metadata": {},
   "outputs": [
    {
     "data": {
      "text/plain": [
       "<__main__.TextVecDataset at 0x7f227d431f90>"
      ]
     },
     "execution_count": 7,
     "metadata": {},
     "output_type": "execute_result"
    }
   ],
   "source": [
    "text_vec_dataset = TextVecDataset()\n",
    "text_vec_dataset"
   ]
  },
  {
   "cell_type": "code",
   "execution_count": 13,
   "metadata": {},
   "outputs": [
    {
     "data": {
      "text/plain": [
       "249"
      ]
     },
     "execution_count": 13,
     "metadata": {},
     "output_type": "execute_result"
    }
   ],
   "source": [
    "text_vec_dataset.__len__()"
   ]
  },
  {
   "cell_type": "code",
   "execution_count": 8,
   "metadata": {},
   "outputs": [
    {
     "name": "stdout",
     "output_type": "stream",
     "text": [
      "(384,)\n"
     ]
    }
   ],
   "source": [
    "for data in text_vec_dataset:\n",
    "    print(data.shape)\n",
    "    break"
   ]
  },
  {
   "cell_type": "code",
   "execution_count": 14,
   "metadata": {},
   "outputs": [],
   "source": [
    "from torch.utils.data import random_split\n",
    "\n",
    "train_dataset, test_dataset = random_split(text_vec_dataset,[0.7,0.3],generator = torch.Generator().manual_seed(42))"
   ]
  },
  {
   "cell_type": "code",
   "execution_count": 17,
   "metadata": {},
   "outputs": [
    {
     "data": {
      "text/plain": [
       "__main__.TextVecDataset"
      ]
     },
     "execution_count": 17,
     "metadata": {},
     "output_type": "execute_result"
    }
   ],
   "source": [
    "type(text_vec_dataset)"
   ]
  },
  {
   "cell_type": "code",
   "execution_count": 16,
   "metadata": {},
   "outputs": [
    {
     "data": {
      "text/plain": [
       "torch.utils.data.dataset.Subset"
      ]
     },
     "execution_count": 16,
     "metadata": {},
     "output_type": "execute_result"
    }
   ],
   "source": [
    "type(train_dataset)"
   ]
  },
  {
   "cell_type": "markdown",
   "metadata": {},
   "source": [
    "### test dataloader\n"
   ]
  },
  {
   "cell_type": "code",
   "execution_count": 2,
   "metadata": {},
   "outputs": [],
   "source": [
    "(\n",
    "        waveform_tf_train_dataloader,\n",
    "        waveform_tf_test_dataloader,\n",
    "        emotion_hidd_vec_train_dataloader,\n",
    "        emotion_hidd_vec_test_dataloader,\n",
    "        text_vec_train_dataloader,\n",
    "        text_vec_test_dataloader,\n",
    "    ) = get_tri_train_val_dataloader()"
   ]
  },
  {
   "cell_type": "code",
   "execution_count": 3,
   "metadata": {},
   "outputs": [],
   "source": [
    "train_data, train_label = next(iter(waveform_tf_train_dataloader))"
   ]
  },
  {
   "cell_type": "code",
   "execution_count": 5,
   "metadata": {},
   "outputs": [
    {
     "data": {
      "text/plain": [
       "torch.Size([32, 2, 1025, 1025])"
      ]
     },
     "execution_count": 5,
     "metadata": {},
     "output_type": "execute_result"
    }
   ],
   "source": [
    "train_data.shape"
   ]
  },
  {
   "cell_type": "code",
   "execution_count": 9,
   "metadata": {},
   "outputs": [
    {
     "data": {
      "text/plain": [
       "('32.500000',\n",
       " '53.750000',\n",
       " '31.250000',\n",
       " '36.250000',\n",
       " '31.250000',\n",
       " '45.000000',\n",
       " '47.500000',\n",
       " '47.500000',\n",
       " '42.500000',\n",
       " '66.250000',\n",
       " '51.250000',\n",
       " '37.500000',\n",
       " '33.750000',\n",
       " '53.750000',\n",
       " '28.750000',\n",
       " '52.500000',\n",
       " '36.250000',\n",
       " '41.250000',\n",
       " '56.250000',\n",
       " '50.000000',\n",
       " '40.000000',\n",
       " '52.500000',\n",
       " '38.750000',\n",
       " '53.750000',\n",
       " '41.250000',\n",
       " '60.000000',\n",
       " '32.500000',\n",
       " '71.250000',\n",
       " '45.000000',\n",
       " '33.750000',\n",
       " '56.250000',\n",
       " '43.750000')"
      ]
     },
     "execution_count": 9,
     "metadata": {},
     "output_type": "execute_result"
    }
   ],
   "source": [
    "train_label"
   ]
  },
  {
   "cell_type": "code",
   "execution_count": 10,
   "metadata": {},
   "outputs": [],
   "source": [
    "_, train_label_2 = next(iter(emotion_hidd_vec_train_dataloader))"
   ]
  },
  {
   "cell_type": "code",
   "execution_count": 11,
   "metadata": {},
   "outputs": [
    {
     "data": {
      "text/plain": [
       "('36.250000',\n",
       " '33.750000',\n",
       " '43.750000',\n",
       " '31.250000',\n",
       " '48.750000',\n",
       " '52.500000',\n",
       " '53.750000',\n",
       " '58.750000',\n",
       " '43.750000',\n",
       " '33.750000',\n",
       " '48.750000',\n",
       " '53.750000',\n",
       " '68.750000',\n",
       " '36.250000',\n",
       " '40.000000',\n",
       " '33.750000',\n",
       " '76.250000',\n",
       " '36.250000',\n",
       " '43.750000',\n",
       " '43.750000',\n",
       " '71.250000',\n",
       " '67.500000',\n",
       " '45.000000',\n",
       " '50.000000',\n",
       " '37.500000',\n",
       " '53.750000',\n",
       " '51.250000',\n",
       " '32.500000',\n",
       " '50.000000',\n",
       " '50.000000',\n",
       " '40.000000',\n",
       " '36.250000')"
      ]
     },
     "execution_count": 11,
     "metadata": {},
     "output_type": "execute_result"
    }
   ],
   "source": [
    "train_label_2"
   ]
  }
 ],
 "metadata": {
  "kernelspec": {
   "display_name": "depression",
   "language": "python",
   "name": "python3"
  },
  "language_info": {
   "codemirror_mode": {
    "name": "ipython",
    "version": 3
   },
   "file_extension": ".py",
   "mimetype": "text/x-python",
   "name": "python",
   "nbconvert_exporter": "python",
   "pygments_lexer": "ipython3",
   "version": "3.10.14"
  }
 },
 "nbformat": 4,
 "nbformat_minor": 2
}
