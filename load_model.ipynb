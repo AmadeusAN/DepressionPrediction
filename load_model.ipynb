{
 "cells": [
  {
   "cell_type": "code",
   "execution_count": 8,
   "metadata": {
    "collapsed": true,
    "ExecuteTime": {
     "end_time": "2024-07-23T09:22:19.920071200Z",
     "start_time": "2024-07-23T09:22:19.910434400Z"
    }
   },
   "outputs": [],
   "source": [
    "import os\n",
    "import audonnx\n",
    "import numpy as np"
   ]
  },
  {
   "cell_type": "code",
   "execution_count": 2,
   "outputs": [],
   "source": [
    "model_root = \"model\""
   ],
   "metadata": {
    "collapsed": false,
    "ExecuteTime": {
     "end_time": "2024-07-23T07:43:05.162693Z",
     "start_time": "2024-07-23T07:43:05.149138400Z"
    }
   }
  },
  {
   "cell_type": "code",
   "execution_count": 3,
   "outputs": [],
   "source": [
    "cache_root = \"cache\""
   ],
   "metadata": {
    "collapsed": false,
    "ExecuteTime": {
     "end_time": "2024-07-23T07:43:05.195361500Z",
     "start_time": "2024-07-23T07:43:05.163245800Z"
    }
   }
  },
  {
   "cell_type": "code",
   "execution_count": 4,
   "outputs": [
    {
     "data": {
      "text/plain": "Input:\n  signal:\n    shape: [1, -1]\n    dtype: tensor(float)\n    transform: None\nOutput:\n  hidden_states:\n    shape: [1, 1024]\n    dtype: tensor(float)\n    labels: [hidden_states-0, hidden_states-1, hidden_states-2, (...), hidden_states-1021,\n      hidden_states-1022, hidden_states-1023]\n  logits:\n    shape: [1, 3]\n    dtype: tensor(float)\n    labels: [arousal, dominance, valence]"
     },
     "execution_count": 4,
     "metadata": {},
     "output_type": "execute_result"
    }
   ],
   "source": [
    "model = audonnx.load(model_root)\n",
    "model"
   ],
   "metadata": {
    "collapsed": false,
    "ExecuteTime": {
     "end_time": "2024-07-23T07:43:06.065436300Z",
     "start_time": "2024-07-23T07:43:05.178797Z"
    }
   }
  },
  {
   "cell_type": "code",
   "execution_count": 6,
   "outputs": [
    {
     "data": {
      "text/plain": "audonnx.core.model.Model"
     },
     "execution_count": 6,
     "metadata": {},
     "output_type": "execute_result"
    }
   ],
   "source": [
    "type(model)"
   ],
   "metadata": {
    "collapsed": false,
    "ExecuteTime": {
     "end_time": "2024-07-23T09:21:49.532008Z",
     "start_time": "2024-07-23T09:21:49.518444100Z"
    }
   }
  },
  {
   "cell_type": "code",
   "execution_count": 7,
   "outputs": [],
   "source": [
    "# 采样频率\n",
    "sample_rate = 16000"
   ],
   "metadata": {
    "collapsed": false,
    "ExecuteTime": {
     "end_time": "2024-07-23T09:21:55.990767800Z",
     "start_time": "2024-07-23T09:21:55.985661900Z"
    }
   }
  },
  {
   "cell_type": "code",
   "execution_count": 19,
   "outputs": [
    {
     "data": {
      "text/plain": "{'hidden_states': array([[-0.00709363,  0.00629523, -0.00757761, ...,  0.006691  ,\n          0.00954956,  0.00262568]], dtype=float32),\n 'logits': array([[0.6729513 , 0.6419179 , 0.49748757]], dtype=float32)}"
     },
     "execution_count": 19,
     "metadata": {},
     "output_type": "execute_result"
    }
   ],
   "source": [
    "dummy_signal = np.random.normal(size=(1,sample_rate)).astype(np.float32)\n",
    "model(dummy_signal, sample_rate)"
   ],
   "metadata": {
    "collapsed": false,
    "ExecuteTime": {
     "end_time": "2024-07-23T09:23:35.018861600Z",
     "start_time": "2024-07-23T09:23:34.768473200Z"
    }
   }
  }
 ],
 "metadata": {
  "kernelspec": {
   "display_name": "Python 3",
   "language": "python",
   "name": "python3"
  },
  "language_info": {
   "codemirror_mode": {
    "name": "ipython",
    "version": 2
   },
   "file_extension": ".py",
   "mimetype": "text/x-python",
   "name": "python",
   "nbconvert_exporter": "python",
   "pygments_lexer": "ipython2",
   "version": "2.7.6"
  }
 },
 "nbformat": 4,
 "nbformat_minor": 0
}
